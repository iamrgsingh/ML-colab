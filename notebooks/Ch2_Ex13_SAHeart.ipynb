{
  "nbformat": 4,
  "nbformat_minor": 0,
  "metadata": {
    "colab": {
      "provenance": []
    },
    "kernelspec": {
      "name": "python3",
      "display_name": "Python 3"
    },
    "language_info": {
      "name": "python"
    }
  },
  "cells": [
    {
      "cell_type": "markdown",
      "source": [
        "Step1 : Read the file from \"http://www-stat.stanford.edu/~tibs/ElemStatLearn/datasets/SAheart.data\"\n",
        "\n",
        "Step2 : Create a dataframe"
      ],
      "metadata": {
        "id": "V-t5EIjqzRDI"
      }
    },
    {
      "cell_type": "code",
      "source": [
        "import pandas as pd\n",
        "import matplotlib.pyplot as plt\n",
        "import seaborn as sn\n",
        "%matplotlib inline"
      ],
      "metadata": {
        "id": "lGYj1p6Wzocf"
      },
      "execution_count": 7,
      "outputs": []
    }
  ]
}